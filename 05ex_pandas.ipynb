{
 "cells": [
  {
   "cell_type": "markdown",
   "metadata": {},
   "source": [
    "1\\. **Pandas DataFrame**\n",
    "\n",
    "This exercise consists in analyzing a dataset containg timing information from a series of Time-to-Digital-Converters (TDC) implemented in a pair of FPGAs. Each measurement (i.e. each row of the input file) consists of a flag that specifies the type of message ('HEAD', which in this case is always 1), two addresses of the TDC providing the signal ('FPGA' and 'TDC_CHANNEL'), and the timing information ('ORBIT_CNT', 'BX_COUNTER', and 'TDC_MEAS'). Each TDC count corresponds to 25/30 ns, whereas a unit of BX_COUNTER corresponds to 25 ns, and the ORBIT_CNT is increased every `x` BX_COUNTER. This allows to store the time in a similar way to hours, minutes and seconds."
   ]
  },
  {
   "cell_type": "code",
   "execution_count": null,
   "metadata": {},
   "outputs": [],
   "source": [
    "# If haven't downloaded it yet, please get the data file with wget\n",
    "#!wget https://www.dropbox.com/s/xvjzaxzz3ysphme/data_000637.txt -P ./data/"
   ]
  },
  {
   "cell_type": "markdown",
   "metadata": {},
   "source": [
    "1\\. Create a Pandas DataFrame reading N rows of the `data/data_000637.txt` dataset. Choose N to be smaller than or equal to the maximum number of rows and larger that 10k (check the documentation)."
   ]
  },
  {
   "cell_type": "code",
   "execution_count": 2,
   "metadata": {
    "ExecuteTime": {
     "end_time": "2023-12-01T14:55:46.331237Z",
     "start_time": "2023-12-01T14:55:45.815918Z"
    }
   },
   "outputs": [
    {
     "name": "stdout",
     "output_type": "stream",
     "text": [
      "        HEAD  FPGA  TDC_CHANNEL   ORBIT_CNT  BX_COUNTER  TDC_MEAS\n",
      "0          1     0          123  3869200167        2374        26\n",
      "1          1     0          124  3869200167        2374        27\n",
      "2          1     0           63  3869200167        2553        28\n",
      "3          1     0           64  3869200167        2558        19\n",
      "4          1     0           64  3869200167        2760        25\n",
      "...      ...   ...          ...         ...         ...       ...\n",
      "999995     1     0           62  3869209011        2560        29\n",
      "999996     1     0           51  3869209011        2561        12\n",
      "999997     1     0           61  3869209011        2562         2\n",
      "999998     1     0           50  3869209011        2563         4\n",
      "999999     1     0           60  3869209011        2688        25\n",
      "\n",
      "[1000000 rows x 6 columns]\n"
     ]
    }
   ],
   "source": [
    "import pandas as pd\n",
    "\n",
    "N = 1000000\n",
    "df = pd.read_csv('data/data_000637.txt', nrows=N)\n",
    "print(df)"
   ]
  },
  {
   "cell_type": "markdown",
   "metadata": {},
   "source": [
    "2\\. Estimate the number of BX in a ORBIT (the value `x`).\n",
    "\n",
    "*Hint*: check when the BX counter reaches the maximum value before being reset to 0."
   ]
  },
  {
   "cell_type": "code",
   "execution_count": 16,
   "metadata": {
    "ExecuteTime": {
     "end_time": "2023-12-01T15:25:25.383964Z",
     "start_time": "2023-12-01T15:25:24.667235Z"
    }
   },
   "outputs": [
    {
     "name": "stdout",
     "output_type": "stream",
     "text": [
      "Estimation:  3564\n"
     ]
    }
   ],
   "source": [
    "import pandas as pd\n",
    "N = 1000000\n",
    "df = pd.read_csv('data/data_000637.txt', nrows=N)\n",
    "max_bx = df['BX_COUNTER'].max() + 1\n",
    "print(\"Estimation: \", max_bx)\n",
    "\n"
   ]
  },
  {
   "cell_type": "markdown",
   "metadata": {},
   "source": [
    "3\\. Create a new column with the absolute time in ns (as a combination of the other three columns with timing information) since the beginning of the data acquisition, and convert the new column to a Time Series.\n",
    "\n",
    "*Hint:* introduce an offset to the absolute time such that the start of the data acquisition (i.e. the first entry) is zero."
   ]
  },
  {
   "cell_type": "code",
   "execution_count": 12,
   "metadata": {
    "ExecuteTime": {
     "end_time": "2023-12-01T14:59:02.378531Z",
     "start_time": "2023-12-01T14:59:01.226099Z"
    }
   },
   "outputs": [
    {
     "data": {
      "text/plain": "        HEAD  FPGA  TDC_CHANNEL   ORBIT_CNT  BX_COUNTER  TDC_MEAS  \\\n0          1     0          123  3869200167        2374        26   \n1          1     0          124  3869200167        2374        27   \n2          1     0           63  3869200167        2553        28   \n3          1     0           64  3869200167        2558        19   \n4          1     0           64  3869200167        2760        25   \n...      ...   ...          ...         ...         ...       ...   \n999995     1     0           62  3869209011        2560        29   \n999996     1     0           51  3869209011        2561        12   \n999997     1     0           61  3869209011        2562         2   \n999998     1     0           50  3869209011        2563         4   \n999999     1     0           60  3869209011        2688        25   \n\n           NS_PASSED  \n0       0.000000e+00  \n1       8.125000e-01  \n2       4.476625e+03  \n3       4.594125e+03  \n4       9.649125e+03  \n...              ...  \n999995  7.880051e+08  \n999996  7.880051e+08  \n999997  7.880051e+08  \n999998  7.880051e+08  \n999999  7.880082e+08  \n\n[1000000 rows x 7 columns]",
      "text/html": "<div>\n<style scoped>\n    .dataframe tbody tr th:only-of-type {\n        vertical-align: middle;\n    }\n\n    .dataframe tbody tr th {\n        vertical-align: top;\n    }\n\n    .dataframe thead th {\n        text-align: right;\n    }\n</style>\n<table border=\"1\" class=\"dataframe\">\n  <thead>\n    <tr style=\"text-align: right;\">\n      <th></th>\n      <th>HEAD</th>\n      <th>FPGA</th>\n      <th>TDC_CHANNEL</th>\n      <th>ORBIT_CNT</th>\n      <th>BX_COUNTER</th>\n      <th>TDC_MEAS</th>\n      <th>NS_PASSED</th>\n    </tr>\n  </thead>\n  <tbody>\n    <tr>\n      <th>0</th>\n      <td>1</td>\n      <td>0</td>\n      <td>123</td>\n      <td>3869200167</td>\n      <td>2374</td>\n      <td>26</td>\n      <td>0.000000e+00</td>\n    </tr>\n    <tr>\n      <th>1</th>\n      <td>1</td>\n      <td>0</td>\n      <td>124</td>\n      <td>3869200167</td>\n      <td>2374</td>\n      <td>27</td>\n      <td>8.125000e-01</td>\n    </tr>\n    <tr>\n      <th>2</th>\n      <td>1</td>\n      <td>0</td>\n      <td>63</td>\n      <td>3869200167</td>\n      <td>2553</td>\n      <td>28</td>\n      <td>4.476625e+03</td>\n    </tr>\n    <tr>\n      <th>3</th>\n      <td>1</td>\n      <td>0</td>\n      <td>64</td>\n      <td>3869200167</td>\n      <td>2558</td>\n      <td>19</td>\n      <td>4.594125e+03</td>\n    </tr>\n    <tr>\n      <th>4</th>\n      <td>1</td>\n      <td>0</td>\n      <td>64</td>\n      <td>3869200167</td>\n      <td>2760</td>\n      <td>25</td>\n      <td>9.649125e+03</td>\n    </tr>\n    <tr>\n      <th>...</th>\n      <td>...</td>\n      <td>...</td>\n      <td>...</td>\n      <td>...</td>\n      <td>...</td>\n      <td>...</td>\n      <td>...</td>\n    </tr>\n    <tr>\n      <th>999995</th>\n      <td>1</td>\n      <td>0</td>\n      <td>62</td>\n      <td>3869209011</td>\n      <td>2560</td>\n      <td>29</td>\n      <td>7.880051e+08</td>\n    </tr>\n    <tr>\n      <th>999996</th>\n      <td>1</td>\n      <td>0</td>\n      <td>51</td>\n      <td>3869209011</td>\n      <td>2561</td>\n      <td>12</td>\n      <td>7.880051e+08</td>\n    </tr>\n    <tr>\n      <th>999997</th>\n      <td>1</td>\n      <td>0</td>\n      <td>61</td>\n      <td>3869209011</td>\n      <td>2562</td>\n      <td>2</td>\n      <td>7.880051e+08</td>\n    </tr>\n    <tr>\n      <th>999998</th>\n      <td>1</td>\n      <td>0</td>\n      <td>50</td>\n      <td>3869209011</td>\n      <td>2563</td>\n      <td>4</td>\n      <td>7.880051e+08</td>\n    </tr>\n    <tr>\n      <th>999999</th>\n      <td>1</td>\n      <td>0</td>\n      <td>60</td>\n      <td>3869209011</td>\n      <td>2688</td>\n      <td>25</td>\n      <td>7.880082e+08</td>\n    </tr>\n  </tbody>\n</table>\n<p>1000000 rows × 7 columns</p>\n</div>"
     },
     "execution_count": 12,
     "metadata": {},
     "output_type": "execute_result"
    }
   ],
   "source": [
    "N = 1000000\n",
    "df = pd.read_csv('data/data_000637.txt', nrows=N)\n",
    "max_bx = df['BX_COUNTER'].max() + 1\n",
    "\n",
    "max_tdc = max(df[\"TDC_MEAS\"]) + 1\n",
    "\n",
    "bx_with_max_orbit = df.loc[df['ORBIT_CNT'] == max(df[\"ORBIT_CNT\"])]\n",
    "bx_with_min_orbit = df.loc[df['ORBIT_CNT'] == min(df[\"ORBIT_CNT\"])]\n",
    "\n",
    "tdc_with_min_bx = bx_with_min_orbit.loc[bx_with_min_orbit['BX_COUNTER'] == min(bx_with_min_orbit[\"BX_COUNTER\"])]\n",
    "\n",
    "initial_ns = (min(df[\"ORBIT_CNT\"])*max_bx + min(bx_with_min_orbit[\"BX_COUNTER\"])) * 25 + min(tdc_with_min_bx[\"TDC_MEAS\"]) * 25/30\n",
    "df['NS_PASSED'] = ((df['ORBIT_CNT']*max_bx + df['BX_COUNTER']) * 25 + df['TDC_MEAS']*25/30) - initial_ns\n",
    "df"
   ]
  },
  {
   "cell_type": "markdown",
   "metadata": {},
   "source": [
    "4\\. Find out the duration of the data taking in hours, minutes and seconds, by using the features of the Time Series. Perform this check reading the whole dataset."
   ]
  },
  {
   "cell_type": "code",
   "execution_count": 13,
   "metadata": {
    "ExecuteTime": {
     "end_time": "2023-12-01T14:59:07.463735Z",
     "start_time": "2023-12-01T14:59:06.379072Z"
    }
   },
   "outputs": [
    {
     "name": "stdout",
     "output_type": "stream",
     "text": [
      "8844  orbit \n",
      "313  bx\n",
      "29  tdc\n",
      "0.7880082491666667  seconds\n"
     ]
    }
   ],
   "source": [
    "N = 1000000\n",
    "df = pd.read_csv('data/data_000637.txt', nrows=N)\n",
    "max_bx = df['BX_COUNTER'].max() + 1\n",
    "\n",
    "max_tdc = max(df[\"TDC_MEAS\"]) + 1\n",
    "\n",
    "dif_orbit = max(df[\"ORBIT_CNT\"]) - min(df[\"ORBIT_CNT\"])\n",
    "\n",
    "bx_with_max_orbit = df.loc[df['ORBIT_CNT'] == max(df[\"ORBIT_CNT\"])]\n",
    "bx_with_min_orbit = df.loc[df['ORBIT_CNT'] == min(df[\"ORBIT_CNT\"])]\n",
    "\n",
    "dif_bx = max(bx_with_max_orbit[\"BX_COUNTER\"]) - min(bx_with_min_orbit[\"BX_COUNTER\"])\n",
    "\n",
    "tdc_with_max_bx = bx_with_max_orbit.loc[bx_with_max_orbit['BX_COUNTER'] == max(bx_with_max_orbit[\"BX_COUNTER\"])]\n",
    "tdc_with_min_bx = bx_with_min_orbit.loc[bx_with_min_orbit['BX_COUNTER'] == min(bx_with_min_orbit[\"BX_COUNTER\"])]\n",
    "\n",
    "dif_tdc = max(tdc_with_max_bx[\"TDC_MEAS\"]) - min(tdc_with_min_bx[\"TDC_MEAS\"])\n",
    "\n",
    "if dif_tdc < 0:\n",
    "    dif_bx = dif_bx - 1\n",
    "    dif_tdc = dif_tdc + max_tdc\n",
    "\n",
    "print(dif_orbit, \" orbit \")\n",
    "print(dif_bx, \" bx\")\n",
    "print(dif_tdc, \" tdc\")\n",
    "\n",
    "print(((dif_orbit*max_bx)+dif_bx)*25*1e-9 + dif_tdc * 25/30*1e-9, \" seconds\")\n"
   ]
  },
  {
   "cell_type": "markdown",
   "metadata": {},
   "source": [
    "5\\. Use the `.groupby()` method to find out the noisy channels, i.e. the TDC channels with most counts (print to screen the top 3 and the corresponding counts)"
   ]
  },
  {
   "cell_type": "code",
   "execution_count": 14,
   "metadata": {
    "ExecuteTime": {
     "end_time": "2023-12-01T14:59:10.214942Z",
     "start_time": "2023-12-01T14:59:09.548924Z"
    }
   },
   "outputs": [],
   "source": [
    "N = 1000000\n",
    "df = pd.read_csv('data/data_000637.txt', nrows=N)\n",
    "max_bx = df['BX_COUNTER'].max() + 1\n",
    "noisy_channels = df.groupby(by=[\"TDC_CHANNEL\"]).size().sort_values(ascending = False).head(3)"
   ]
  },
  {
   "cell_type": "markdown",
   "metadata": {},
   "source": [
    "6\\. Count the number of non-empty orbits (i.e. the number of orbits with at least one hit)."
   ]
  },
  {
   "cell_type": "code",
   "execution_count": 15,
   "metadata": {
    "ExecuteTime": {
     "end_time": "2023-12-01T14:59:14.562545Z",
     "start_time": "2023-12-01T14:59:13.820488Z"
    }
   },
   "outputs": [
    {
     "name": "stdout",
     "output_type": "stream",
     "text": [
      "Number of non-empty orbits:  8841\n"
     ]
    }
   ],
   "source": [
    "N = 1000000\n",
    "df = pd.read_csv('data/data_000637.txt', nrows=N)\n",
    "non_empty_orbits = df.groupby('ORBIT_CNT')\n",
    "print(\"Number of non-empty orbits: \", len(non_empty_orbits))"
   ]
  },
  {
   "cell_type": "markdown",
   "metadata": {},
   "source": [
    "7\\. Count the number of unique orbits with at least one measurement from TDC_CHANNEL=139."
   ]
  },
  {
   "cell_type": "code",
   "execution_count": 11,
   "metadata": {
    "ExecuteTime": {
     "end_time": "2023-12-01T14:58:20.352135Z",
     "start_time": "2023-12-01T14:58:19.497956Z"
    }
   },
   "outputs": [
    {
     "name": "stdout",
     "output_type": "stream",
     "text": [
      "Number of unique orbits where TDC_CHANNEL is equal to 139:  8816\n"
     ]
    }
   ],
   "source": [
    "N = 1000000\n",
    "df = pd.read_csv('data/data_000637.txt', nrows=N)\n",
    "tdc_channel_139 = df[df['TDC_CHANNEL'] == 139].groupby('ORBIT_CNT')\n",
    "print(\"Number of unique orbits where TDC_CHANNEL is equal to 139: \", len(tdc_channel_139))"
   ]
  },
  {
   "cell_type": "markdown",
   "metadata": {},
   "source": [
    "8\\. Create two Series (one for each FPGA) that have the TDC channel as index, and the number of counts for the corresponding TDC channel as values."
   ]
  },
  {
   "cell_type": "code",
   "execution_count": null,
   "metadata": {},
   "outputs": [],
   "source": []
  },
  {
   "cell_type": "markdown",
   "metadata": {},
   "source": [
    "9\\. **Optional:** Create two histograms (one for each FPGA) that show the number of counts for each TDC channel."
   ]
  },
  {
   "cell_type": "code",
   "execution_count": null,
   "metadata": {},
   "outputs": [],
   "source": []
  }
 ],
 "metadata": {
  "kernelspec": {
   "display_name": "Python 3 (ipykernel)",
   "language": "python",
   "name": "python3"
  },
  "language_info": {
   "codemirror_mode": {
    "name": "ipython",
    "version": 3
   },
   "file_extension": ".py",
   "mimetype": "text/x-python",
   "name": "python",
   "nbconvert_exporter": "python",
   "pygments_lexer": "ipython3",
   "version": "3.10.12"
  }
 },
 "nbformat": 4,
 "nbformat_minor": 2
}
