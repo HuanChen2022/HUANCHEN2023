{
 "cells": [
  {
   "cell_type": "markdown",
   "metadata": {},
   "source": [
    "1\\. **Text files**\n",
    "\n",
    "Perform the following operations on plain `txt` files:\n",
    "\n",
    "+ create a list of integrer numbers and then save it to a text file named `data_int.txt`. Run the `cat` command to print the content of the file.\n",
    "+ create a matrix of 5x5 floats and then save it to a text file named `data_float.txt`. Use the `cat` command to print the content of the file.\n",
    "+ load the `txt` file of the previous point and convert it to a `csv` file by hand."
   ]
  },
  {
   "cell_type": "code",
   "execution_count": 1,
   "metadata": {
    "ExecuteTime": {
     "end_time": "2023-12-01T15:04:57.822917Z",
     "start_time": "2023-12-01T15:04:57.590941Z"
    }
   },
   "outputs": [
    {
     "name": "stdout",
     "output_type": "stream",
     "text": [
      "[18, 63, 53, 17, 12, 93, 32, 6, 15, 90, 54, 13, 67, 37, 46, 85, 20, 77, 16, 24, 75, 32, 94, 0, 25, 4, 73, 55, 59, 79, 74, 23, 40, 1, 84, 4, 7, 42, 73, 51, 12, 56, 36, 36, 61, 46, 30, 0, 91, 91, 31, 58, 68, 37, 9, 30, 3, 81, 90, 23, 65, 13, 77, 80, 5, 15, 29, 20, 92, 24, 36, 36, 8, 58, 27, 28, 12, 42, 36, 80, 77, 0, 19, 46, 74, 57, 3, 1, 52, 48, 61, 62, 92, 4, 0, 56, 76, 72, 2, 18]\n",
      "18 63 53 17 12 93 32 6 15 90 54 13 67 37 46 85 20 77 16 24 75 32 94 0 25 4 73 55 59 79 74 23 40 1 84 4 7 42 73 51 12 56 36 36 61 46 30 0 91 91 31 58 68 37 9 30 3 81 90 23 65 13 77 80 5 15 29 20 92 24 36 36 8 58 27 28 12 42 36 80 77 0 19 46 74 57 3 1 52 48 61 62 92 4 0 56 76 72 2 18 [0.80209279 0.50030616 0.50436263 0.23041311 0.58946038] [0.04072945 0.84779539 0.49588382 0.95414215 0.133845  ] [0.79891986 0.13937443 0.33500964 0.69740628 0.32759495] [0.87219892 0.37213362 0.83468195 0.60371548 0.62862985] [0.71264997 0.31749289 0.04398877 0.15893742 0.46061089] [0.80209279 0.50030616 0.50436263 0.23041311 0.58946038] [0.04072945 0.84779539 0.49588382 0.95414215 0.133845  ] [0.79891986 0.13937443 0.33500964 0.69740628 0.32759495] [0.87219892 0.37213362 0.83468195 0.60371548 0.62862985] [0.71264997 0.31749289 0.04398877 0.15893742 0.46061089]\r\n"
     ]
    },
    {
     "data": {
      "text/plain": "0"
     },
     "execution_count": 1,
     "metadata": {},
     "output_type": "execute_result"
    }
   ],
   "source": [
    "import numpy as np\n",
    "import csv\n",
    "from random import randrange\n",
    "from os import system\n",
    "\n",
    "# 1 crete and save data_int.txt\n",
    "list = []\n",
    "for i in range(100):\n",
    "    list.append(randrange(100))\n",
    "print(list)\n",
    "\n",
    "txt_file = open(\"data_int.txt\", \"w\")\n",
    "for element in list:\n",
    "    txt_file.write(str(element) + \" \")\n",
    "txt_file.close()\n",
    "\n",
    "system(\"cat data_int.txt\")\n",
    "\n",
    "# 5x5 floats\n",
    "matrix = np.random.rand(5, 5)\n",
    "txt_file2 = open(\"data_float.txt\", \"w\")\n",
    "for element in matrix:\n",
    "    txt_file2.write(str(element) + \" \")\n",
    "txt_file2.close()\n",
    "system(\"cat data_float.txt\")\n",
    "\n",
    "# txt convert to csv\n",
    "with open('data_float.txt', 'r') as in_file:\n",
    "    stripped = (line.strip() for line in in_file)\n",
    "    lines = (line.split(\",\") for line in stripped if line)\n",
    "    with open('data_float.csv', 'w') as out_file:\n",
    "        writer = csv.writer(out_file)\n",
    "        writer.writerows(lines)\n",
    "system(\"cat data_float.csv\")\n"
   ]
  },
  {
   "cell_type": "markdown",
   "metadata": {},
   "source": [
    "2\\. **JSON files**\n",
    "\n",
    "Load the file `user_data.json`, which can be found at:\n",
    "\n",
    "- https://www.dropbox.com/s/sz5klcdpckc39hd/user_data.json\n",
    "\n",
    "and filter the data by the \"CreditCardType\" when it equals to \"American Express\". Than save the data to a new CSV file."
   ]
  },
  {
   "cell_type": "code",
   "execution_count": 3,
   "metadata": {
    "ExecuteTime": {
     "end_time": "2023-12-01T15:09:46.438438Z",
     "start_time": "2023-12-01T15:09:45.305230Z"
    }
   },
   "outputs": [
    {
     "name": "stdout",
     "output_type": "stream",
     "text": [
      "      ID             JobTitle                    EmailAddress  \\\n",
      "0      1      Project Manager    Remy_Crawford1065@typill.biz   \n",
      "1      2  Investment  Advisor    Clint_Thorpe5003@bulaffy.com   \n",
      "2      3                 Cook   Russel_Hooper9403@bulaffy.com   \n",
      "3      4      Business Broker   Benjamin_Rowan6280@gembat.biz   \n",
      "4      5         Loan Officer       Matt_Lloyd3241@guentu.biz   \n",
      "..   ...                  ...                             ...   \n",
      "195  196         Loan Officer        Wade_Khan6086@twipet.com   \n",
      "196  197                 Cook         Ally_Rose8531@twace.org   \n",
      "197  198     Machine Operator      Harvey_Moore7505@extex.org   \n",
      "198  199  Investment  Advisor      Ryan_Kennedy5565@corti.com   \n",
      "199  200          Stockbroker  Michaela_Murphy8359@ovock.tech   \n",
      "\n",
      "    FirstNameLastName           CreditCard    CreditCardType  \n",
      "0       Remy Crawford  6205-7258-7671-0612       Capital One  \n",
      "1        Clint Thorpe  7083-8766-0251-2345  American Express  \n",
      "2       Russel Hooper  6378-4461-8535-5847          Discover  \n",
      "3      Benjamin Rowan  5781-7635-1428-7414          Discover  \n",
      "4          Matt Lloyd  5771-8416-2736-1700          Citibank  \n",
      "..                ...                  ...               ...  \n",
      "195         Wade Khan  1363-2250-6020-4481       Capital One  \n",
      "196         Ally Rose  6056-7620-3676-2804           Maestro  \n",
      "197      Harvey Moore  4353-7464-5078-5485          UnionPay  \n",
      "198      Ryan Kennedy  3166-6287-6242-7207  American Express  \n",
      "199   Michaela Murphy  4783-1022-5267-5557          Discover  \n",
      "\n",
      "[200 rows x 6 columns]\n",
      "      ID               JobTitle                       EmailAddress  \\\n",
      "1      2    Investment  Advisor       Clint_Thorpe5003@bulaffy.com   \n",
      "11    12         Retail Trainee   Phillip_Carpenter9505@famism.biz   \n",
      "27    28        Project Manager        Russel_Graves1378@extex.org   \n",
      "38    39            Stockbroker       Leanne_Newton1268@typill.biz   \n",
      "56    57         Budget Analyst          Tony_Giles1960@iatim.tech   \n",
      "61    62           CNC Operator        Owen_Allcott5125@bauros.biz   \n",
      "67    68        Project Manager           Liam_Lynn3280@kideod.biz   \n",
      "73    74                Dentist      Regina_Woodcock5820@yahoo.com   \n",
      "80    81          HR Specialist       Carter_Wallace9614@atink.com   \n",
      "91    92    Staffing Consultant           Maia_Stark2797@jiman.org   \n",
      "96    97            Stockbroker          Ciara_Lomax982@bauros.biz   \n",
      "115  116    Staffing Consultant      Isabel_Ellwood1475@fuliss.net   \n",
      "147  148           CNC Operator  Abdul_Townend2202@infotech44.tech   \n",
      "149  150             Fabricator        Caleb_Poulton1735@atink.com   \n",
      "150  151     Restaurant Manager         Ronald_Lewis6777@deavo.com   \n",
      "153  154                Bellman        Faith_Seymour3829@twace.org   \n",
      "168  169        Assistant Buyer      Anthony_Hancock9083@qater.org   \n",
      "175  176  Healthcare Specialist    Isabella_Willson5478@nanoff.biz   \n",
      "181  182             Pharmacist     Stephanie_Darcy3298@bauros.biz   \n",
      "198  199    Investment  Advisor         Ryan_Kennedy5565@corti.com   \n",
      "\n",
      "     FirstNameLastName           CreditCard    CreditCardType  \n",
      "1         Clint Thorpe  7083-8766-0251-2345  American Express  \n",
      "11   Phillip Carpenter  3657-0088-0820-5247  American Express  \n",
      "27       Russel Graves  6718-4818-8011-6024  American Express  \n",
      "38       Leanne Newton  5438-0816-4166-4847  American Express  \n",
      "56          Tony Giles  8130-3425-7573-7745  American Express  \n",
      "61        Owen Allcott  4156-0107-7210-2630  American Express  \n",
      "67           Liam Lynn  7152-3247-6053-2233  American Express  \n",
      "73     Regina Woodcock  0208-1753-3870-8002  American Express  \n",
      "80      Carter Wallace  4256-7201-6717-4322  American Express  \n",
      "91          Maia Stark  3851-1403-1734-6321  American Express  \n",
      "96         Ciara Lomax  3702-3440-2472-5424  American Express  \n",
      "115     Isabel Ellwood  3738-0882-0066-6683  American Express  \n",
      "147      Abdul Townend  4224-1226-3557-3448  American Express  \n",
      "149      Caleb Poulton  8203-6875-5225-0341  American Express  \n",
      "150       Ronald Lewis  7212-0155-5014-8471  American Express  \n",
      "153      Faith Seymour  4170-5186-6887-6558  American Express  \n",
      "168    Anthony Hancock  0832-3357-6010-6550  American Express  \n",
      "175   Isabella Willson  5177-4868-4623-0384  American Express  \n",
      "181    Stephanie Darcy  0264-4020-5106-5576  American Express  \n",
      "198       Ryan Kennedy  3166-6287-6242-7207  American Express  \n"
     ]
    }
   ],
   "source": [
    "import pandas as pd\n",
    "file = pd.read_json(\"user_data.json\")\n",
    "print(file)\n",
    "file = file[(file['CreditCardType'] == \"American Express\")]\n",
    "print(file)"
   ]
  },
  {
   "cell_type": "markdown",
   "metadata": {},
   "source": [
    "3\\. **CSV files with Pandas**\n",
    "\n",
    "Load the file from this url:\n",
    "\n",
    "- https://www.dropbox.com/s/kgshemfgk22iy79/mushrooms_categorized.csv\n",
    "\n",
    "with Pandas. \n",
    "\n",
    "+ explore and print the DataFrame\n",
    "+ calculate, using `groupby()`, the average value of each feature, separately for each class\n",
    "+ save the file in a JSON format."
   ]
  },
  {
   "cell_type": "code",
   "execution_count": 4,
   "metadata": {
    "ExecuteTime": {
     "end_time": "2023-12-01T15:12:37.862430Z",
     "start_time": "2023-12-01T15:12:37.745268Z"
    }
   },
   "outputs": [
    {
     "name": "stdout",
     "output_type": "stream",
     "text": [
      "       cap-shape  cap-surface  cap-color   bruises      odor  gill-attachment  \\\n",
      "class                                                                           \n",
      "0       3.266160     1.615970   4.581749  0.653992  4.334601         0.954373   \n",
      "1       3.436159     2.055158   4.421859  0.159346  3.940756         0.995403   \n",
      "\n",
      "       gill-spacing  gill-size  gill-color  stalk-shape  ...  \\\n",
      "class                                                    ...   \n",
      "0          0.285171   0.068441    6.622624     0.615970  ...   \n",
      "1          0.028601   0.567926    2.863636     0.514811  ...   \n",
      "\n",
      "       stalk-surface-below-ring  stalk-color-above-ring  \\\n",
      "class                                                     \n",
      "0                      1.798479                6.098859   \n",
      "1                      1.394280                5.512768   \n",
      "\n",
      "       stalk-color-below-ring  veil-type  veil-color  ring-number  ring-type  \\\n",
      "class                                                                          \n",
      "0                    6.064639        0.0    1.931559     1.125475   3.007605   \n",
      "1                    5.504597        0.0    2.002043     1.009193   1.522983   \n",
      "\n",
      "       spore-print-color  population   habitat  \n",
      "class                                           \n",
      "0               3.201521    3.283270  1.148289  \n",
      "1               4.021450    4.031665  1.895812  \n",
      "\n",
      "[2 rows x 22 columns]\n",
      "{\"cap-shape\":{\"0\":3.2661596958,\"1\":3.4361593463},\"cap-surface\":{\"0\":1.6159695817,\"1\":2.0551583248},\"cap-color\":{\"0\":4.5817490494,\"1\":4.4218590398},\"bruises\":{\"0\":0.6539923954,\"1\":0.1593462717},\"odor\":{\"0\":4.3346007605,\"1\":3.9407558733},\"gill-attachment\":{\"0\":0.9543726236,\"1\":0.9954034729},\"gill-spacing\":{\"0\":0.2851711027,\"1\":0.0286006129},\"gill-size\":{\"0\":0.0684410646,\"1\":0.5679264556},\"gill-color\":{\"0\":6.6226235741,\"1\":2.8636363636},\"stalk-shape\":{\"0\":0.6159695817,\"1\":0.5148110317},\"stalk-root\":{\"0\":1.4980988593,\"1\":0.6925434116},\"stalk-surface-above-ring\":{\"0\":1.7756653992,\"1\":1.3595505618},\"stalk-surface-below-ring\":{\"0\":1.7984790875,\"1\":1.3942798774},\"stalk-color-above-ring\":{\"0\":6.0988593156,\"1\":5.5127681307},\"stalk-color-below-ring\":{\"0\":6.0646387833,\"1\":5.5045965271},\"veil-type\":{\"0\":0.0,\"1\":0.0},\"veil-color\":{\"0\":1.9315589354,\"1\":2.0020429009},\"ring-number\":{\"0\":1.1254752852,\"1\":1.0091930541},\"ring-type\":{\"0\":3.0076045627,\"1\":1.5229826353},\"spore-print-color\":{\"0\":3.2015209125,\"1\":4.0214504597},\"population\":{\"0\":3.283269962,\"1\":4.0316649642},\"habitat\":{\"0\":1.1482889734,\"1\":1.8958120531}}"
     ]
    },
    {
     "data": {
      "text/plain": "0"
     },
     "execution_count": 4,
     "metadata": {},
     "output_type": "execute_result"
    }
   ],
   "source": [
    "import pandas as pd\n",
    "from os import system\n",
    "data = pd.read_csv(\"mushrooms_categorized.csv\")\n",
    "data =data.groupby('class').mean()\n",
    "print(data)\n",
    "data.to_json('mushrooms_categorized.json')\n",
    "\n",
    "system(\"cat mushrooms_categorized.json\")"
   ]
  },
  {
   "cell_type": "markdown",
   "metadata": {},
   "source": [
    "4\\. **Reading a database**\n",
    "\n",
    "Get the database `sakila.db` from the lecture `06_dataio.ipynb`, and import the table `actors` as a Pandas dataframe. Using the dataframe, count how many actors have a first name that begins with `A`.\n",
    "\n",
    "*Hint:* use the Series `.str` method to apply the Python string methods to the elements of a Series, see [documentation](https://pandas.pydata.org/docs/reference/api/pandas.Series.str.html)."
   ]
  },
  {
   "cell_type": "code",
   "execution_count": 5,
   "metadata": {
    "ExecuteTime": {
     "end_time": "2023-12-01T15:15:18.224683Z",
     "start_time": "2023-12-01T15:15:18.217718Z"
    }
   },
   "outputs": [],
   "source": []
  },
  {
   "cell_type": "markdown",
   "metadata": {},
   "source": [
    "5\\. **Reading the credit card numbers**\n",
    "\n",
    "Get the binary file named `credit_card.dat` from this address:\n",
    "\n",
    "- https://www.dropbox.com/s/8m0syw2tkul3dap/credit_card.dat\n",
    "\n",
    "and convert the data into the real credit card number, knowing that:\n",
    "- each line corresponds to a credit card number, which consists of 16 characters (which are numbers in the 0-9 range) divided in 4 blocks, with a whitespace between each block\n",
    "- each character is written using a 6 bit binary representation (including the whitespace)\n",
    "- the final 4 bits of each line are a padding used to determine the end of the line, and can be ignored\n",
    "\n",
    "*Hint*: convert the binary numbers to the decimal representation first, and then use the `chr()` function to convert the latter to a char"
   ]
  },
  {
   "cell_type": "code",
   "execution_count": 6,
   "metadata": {
    "ExecuteTime": {
     "end_time": "2023-12-01T15:16:03.029905Z",
     "start_time": "2023-12-01T15:16:03.021366Z"
    }
   },
   "outputs": [
    {
     "name": "stdout",
     "output_type": "stream",
     "text": [
      "['7648 5673 3775 2271', '3257 8247 3354 2266', '2722 0001 4011 6652', '0661 3063 3742 3150', '0432 1608 1462 4742', '5827 2027 8785 7303', '5774 8528 2087 1117', '8140 1210 6352 2845', '5764 1133 7301 7100', '6456 1737 4126 6726', '1228 8631 7382 0000', '7051 0160 5374 3166', '0618 3587 1630 6376', '1545 5454 7444 5636', '6735 3116 3202 6834', '7287 5011 1547 8413', '7033 2607 3328 4200', '2568 5244 1874 5024', '1684 2253 7570 7118', '0672 2576 0575 6631', '6332 8353 8787 1340', '1813 3361 1175 4211', '2477 6450 8840 2368', '5512 3505 2563 1326', '3083 7882 0621 0025', '4521 5148 8045 0334', '7563 3654 8713 5787', '8324 2664 0476 5561', '0565 2504 7168 3510', '5107 5507 1767 0738', '2462 1821 2448 1443', '2788 0638 6861 6554', '5851 5873 5474 0547', '0670 1004 4013 2655', '5874 5506 3048 0806', '2805 5401 8462 1260', '5083 8406 6310 1862', '1076 1445 3013 2266', '8440 4804 4844 5277', '4758 6141 0686 1387', '7586 0675 0315 2568', '2544 1258 7432 5165', '3474 5023 4434 5626', '1410 0270 0434 5086', '7315 4446 1104 4215', '0224 7742 8300 0266', '0170 2700 3145 0640', '2006 2437 8054 1600', '8142 4055 1776 0026', '3026 7380 1241 1084', '']\n"
     ]
    }
   ],
   "source": [
    "import pandas as pd\n",
    "file_name = 'credit_card.dat'\n",
    "credit_cards = []\n",
    "with open(file_name, mode='r') as f:\n",
    "    for line in f:\n",
    "        n = 6\n",
    "        bin_chars = [line[i:i + n] for i in range(0, len(line) - 5, n)]\n",
    "\n",
    "        card_number = \"\"\n",
    "        for char in bin_chars:\n",
    "            card_number += chr(int(char, 2))\n",
    "\n",
    "        credit_cards.append(card_number)\n",
    "\n",
    "print(credit_cards)"
   ]
  },
  {
   "cell_type": "markdown",
   "metadata": {},
   "source": [
    "6\\. **Write data to a binary file**\n",
    "\n",
    "a) Start from the `data/data_000637.txt` file that we have used during the previous lectures, and convert it to a binary file according to the format defined below:"
   ]
  },
  {
   "cell_type": "code",
   "execution_count": null,
   "metadata": {},
   "outputs": [],
   "source": [
    "from IPython.display import Image\n",
    "Image(\"images/data_format.png\")"
   ]
  },
  {
   "cell_type": "markdown",
   "metadata": {},
   "source": [
    "*Hints*:\n",
    "- Read the first 10 lines using Pandas\n",
    "- Iterate over the DataFrame rows\n",
    "- For every row, \"pack\" the values (features) into a single 64-bit word, according to the format specified above. Use bit-wise shifts and operators to do so.\n",
    "- Write each 64-bit word to a binary file. You can use `struct` in this way:\n",
    "```\n",
    "binary_file.write( struct.pack('<q', word) )\n",
    "```\n",
    "where `word` is the 64-bit word.\n",
    "- Close the file after completing the loop.\n",
    "\n",
    "b) Check that the binary file is correctly written by reading it with the code used in the lecture `06_dataio.ipynb`, and verify that the content of the `txt` and binary files is consistent.\n",
    "\n",
    "c) What is the difference of the size on disk between equivalent `txt` and binary files?"
   ]
  },
  {
   "cell_type": "code",
   "execution_count": null,
   "metadata": {},
   "outputs": [],
   "source": []
  }
 ],
 "metadata": {
  "kernelspec": {
   "display_name": "Python 3 (ipykernel)",
   "language": "python",
   "name": "python3"
  },
  "language_info": {
   "codemirror_mode": {
    "name": "ipython",
    "version": 3
   },
   "file_extension": ".py",
   "mimetype": "text/x-python",
   "name": "python",
   "nbconvert_exporter": "python",
   "pygments_lexer": "ipython3",
   "version": "3.10.12"
  }
 },
 "nbformat": 4,
 "nbformat_minor": 2
}
