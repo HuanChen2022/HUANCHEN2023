{
 "cells": [
  {
   "cell_type": "markdown",
   "metadata": {},
   "source": [
    "1\\. **Reductions**\n",
    "\n",
    "Given the following matrix:\n",
    "\n",
    "```python\n",
    "m = np.arange(12).reshape((3,4))\n",
    "```\n",
    "\n",
    "   1. find the total mean\n",
    "   2. find the mean for each row and column"
   ]
  },
  {
   "cell_type": "code",
   "execution_count": 2,
   "metadata": {
    "ExecuteTime": {
     "end_time": "2023-12-01T14:11:44.327446Z",
     "start_time": "2023-12-01T14:11:44.312912Z"
    }
   },
   "outputs": [
    {
     "name": "stdout",
     "output_type": "stream",
     "text": [
      "[[ 0  1  2  3]\n",
      " [ 4  5  6  7]\n",
      " [ 8  9 10 11]]\n",
      "total mean is 5.5,the mean for each row is [1.5 5.5 9.5],the mean for each column is[4. 5. 6. 7.]\n"
     ]
    }
   ],
   "source": [
    "import numpy as np\n",
    "m = np.arange(12).reshape((3, 4))\n",
    "print(m)\n",
    "total_mean = np.mean(m)\n",
    "row_mean = np.mean(m, axis=1)\n",
    "column_mean = np.mean(m, axis=0)\n",
    "\n",
    "print(f\"total mean is {total_mean},the mean for each row is {row_mean},the mean for each column is{column_mean}\")"
   ]
  },
  {
   "cell_type": "markdown",
   "metadata": {},
   "source": [
    "2\\. **Outer product**\n",
    "\n",
    "Find the outer product of the following vectors:\n",
    "\n",
    "```python\n",
    "u = np.array([1, 3, 5, 7])\n",
    "v = np.array([2, 4, 6, 8])\n",
    "```\n",
    "\n",
    "Use different methods to do this:\n",
    "\n",
    "   1. Using the function `outer` in numpy\n",
    "   2. Using a nested `for` loop or a list comprehension\n",
    "   3. Using numpy broadcasting operations"
   ]
  },
  {
   "cell_type": "code",
   "execution_count": 3,
   "metadata": {
    "ExecuteTime": {
     "end_time": "2023-12-01T14:11:46.851043Z",
     "start_time": "2023-12-01T14:11:46.787660Z"
    }
   },
   "outputs": [
    {
     "name": "stdout",
     "output_type": "stream",
     "text": [
      "[[ 2  4  6  8]\n",
      " [ 6 12 18 24]\n",
      " [10 20 30 40]\n",
      " [14 28 42 56]]\n",
      "[[ 2  4  6  8]\n",
      " [ 6 12 18 24]\n",
      " [10 20 30 40]\n",
      " [14 28 42 56]]\n",
      "[[ 2  4  6  8]\n",
      " [ 6 12 18 24]\n",
      " [10 20 30 40]\n",
      " [14 28 42 56]]\n"
     ]
    }
   ],
   "source": [
    "import numpy as np\n",
    "\n",
    "u = np.array([1, 3, 5, 7])\n",
    "v = np.array([2, 4, 6, 8])\n",
    "\n",
    "# 1. Using the function `outer` in numpy\n",
    "outer_np = np.outer(u, v)\n",
    "print(outer_np)\n",
    "\n",
    "# 2. Using a nested `for` loop or a list comprehension\n",
    "demo = []\n",
    "for x in range(len(u)):\n",
    "    temp = []\n",
    "    for y in range(len(v)):\n",
    "        temp.append(u[x]*v[y])\n",
    "    demo.append(temp)\n",
    "\n",
    "list_outer = np.array(demo)\n",
    "print(list_outer)\n",
    "\n",
    "#qs: how to use list comprehension to write the list\n",
    "# outer_list = np.array([u[x]*v[y]]for x in range(len(u)) for y in range(len(v)) if y == 4)\n",
    "# print(outer_list)\n",
    "\n",
    "# 3. Using numpy broadcasting operations\n",
    "u2 = u.reshape(-1, 1) \n",
    "uu = np.repeat(u2, 4, axis=1) \n",
    "uuv_ba = uu*v\n",
    "print(uuv_ba)"
   ]
  },
  {
   "cell_type": "markdown",
   "metadata": {},
   "source": [
    "3\\. **Matrix masking**\n",
    "\n",
    "Create a $10 \\times 6$ matrix of float random numbers, distributed between 0 and 3 according to a flat distribution.\n",
    "\n",
    "After creating the matrix, set all entries $< 0.3$ to zero using a mask."
   ]
  },
  {
   "cell_type": "code",
   "execution_count": 4,
   "metadata": {
    "ExecuteTime": {
     "end_time": "2023-12-01T14:12:07.814563Z",
     "start_time": "2023-12-01T14:12:07.797023Z"
    }
   },
   "outputs": [
    {
     "name": "stdout",
     "output_type": "stream",
     "text": [
      "[[0.04504711 0.46529878 2.25657679 0.25645128 1.88072448 1.742358\n",
      "  0.17113353 1.41921401 1.78181857 0.17738318]\n",
      " [0.56745579 2.04775611 1.8069668  0.4502331  2.71770725 0.75518107\n",
      "  0.02084841 0.37686583 1.51783929 1.65614654]\n",
      " [1.80086593 2.38558602 2.99751681 1.86808687 2.03909733 0.76882947\n",
      "  2.97680803 0.79105878 2.93617786 2.14236794]\n",
      " [1.43019614 1.36338305 0.2966765  1.3694582  2.59121673 2.48982192\n",
      "  2.0250341  0.07145009 1.28464571 0.63088999]\n",
      " [0.51158596 1.00808514 1.65552102 0.02204705 2.69557202 1.13575489\n",
      "  0.16561941 0.66480825 2.88380791 2.66736543]\n",
      " [0.07204205 0.41606003 2.85477604 0.69680804 2.72753638 0.16603845\n",
      "  1.56700323 1.73011358 0.21045081 0.42631215]] \n",
      "\n",
      "the result of using mask is [[0.         0.46529878 2.25657679 0.         1.88072448 1.742358\n",
      "  0.         1.41921401 1.78181857 0.        ]\n",
      " [0.56745579 2.04775611 1.8069668  0.4502331  2.71770725 0.75518107\n",
      "  0.         0.37686583 1.51783929 1.65614654]\n",
      " [1.80086593 2.38558602 2.99751681 1.86808687 2.03909733 0.76882947\n",
      "  2.97680803 0.79105878 2.93617786 2.14236794]\n",
      " [1.43019614 1.36338305 0.         1.3694582  2.59121673 2.48982192\n",
      "  2.0250341  0.         1.28464571 0.63088999]\n",
      " [0.51158596 1.00808514 1.65552102 0.         2.69557202 1.13575489\n",
      "  0.         0.66480825 2.88380791 2.66736543]\n",
      " [0.         0.41606003 2.85477604 0.69680804 2.72753638 0.\n",
      "  1.56700323 1.73011358 0.         0.42631215]]\n"
     ]
    }
   ],
   "source": [
    "import numpy as np\n",
    "\n",
    "a = np.random.uniform(0, 3, [6, 10]) \n",
    "print(a, '\\n')\n",
    "\n",
    "a[a < 0.3] = 0\n",
    "\n",
    "print(f\"the result of using mask is {a}\")"
   ]
  },
  {
   "cell_type": "markdown",
   "metadata": {},
   "source": [
    "4\\. **Trigonometric functions**\n",
    "\n",
    "Use `np.linspace` to create an array of 100 numbers between $0$ and $2\\pi$ (inclusive).\n",
    "\n",
    "  * Extract every 10th element using the slice notation\n",
    "  * Reverse the array using the slice notation\n",
    "  * Extract elements where the absolute difference between the `sin` and `cos` functions evaluated for that element is $< 0.1$\n",
    "  * **Optional**: make a plot showing the `sin` and `cos` functions and indicate graphically (with a line or a marker) where they are close"
   ]
  },
  {
   "cell_type": "code",
   "execution_count": 8,
   "metadata": {
    "ExecuteTime": {
     "end_time": "2023-12-01T14:14:54.909531Z",
     "start_time": "2023-12-01T14:14:54.877387Z"
    }
   },
   "outputs": [
    {
     "ename": "ModuleNotFoundError",
     "evalue": "No module named 'matplot'",
     "output_type": "error",
     "traceback": [
      "\u001B[0;31m---------------------------------------------------------------------------\u001B[0m",
      "\u001B[0;31mModuleNotFoundError\u001B[0m                       Traceback (most recent call last)",
      "Cell \u001B[0;32mIn[8], line 2\u001B[0m\n\u001B[1;32m      1\u001B[0m \u001B[38;5;28;01mimport\u001B[39;00m \u001B[38;5;21;01mnumpy\u001B[39;00m \u001B[38;5;28;01mas\u001B[39;00m \u001B[38;5;21;01mnp\u001B[39;00m\n\u001B[0;32m----> 2\u001B[0m \u001B[38;5;28;01mimport\u001B[39;00m \u001B[38;5;21;01mmatplot\u001B[39;00m\u001B[38;5;21;01m.\u001B[39;00m\u001B[38;5;21;01mpyplot\u001B[39;00m \u001B[38;5;28;01mas\u001B[39;00m \u001B[38;5;21;01mplt\u001B[39;00m\n\u001B[1;32m      4\u001B[0m \u001B[38;5;66;03m# np.linspace(tart, stop, num=50, endpoint=True, retstep=False, dtype=None)\u001B[39;00m\n\u001B[1;32m      5\u001B[0m tri \u001B[38;5;241m=\u001B[39m np\u001B[38;5;241m.\u001B[39mlinspace(\u001B[38;5;241m0\u001B[39m, \u001B[38;5;241m2\u001B[39m \u001B[38;5;241m/\u001B[39m np\u001B[38;5;241m.\u001B[39mpi, num\u001B[38;5;241m=\u001B[39m\u001B[38;5;241m100\u001B[39m, endpoint\u001B[38;5;241m=\u001B[39m\u001B[38;5;28;01mTrue\u001B[39;00m)\n",
      "\u001B[0;31mModuleNotFoundError\u001B[0m: No module named 'matplot'"
     ]
    }
   ],
   "source": [
    "import numpy as np\n",
    "import matplot.pyplot as plt\n",
    "\n",
    "# np.linspace(tart, stop, num=50, endpoint=True, retstep=False, dtype=None)\n",
    "tri = np.linspace(0, 2 / np.pi, num=100, endpoint=True)\n",
    "\n",
    "#Extract every 10th element using the slice notation\n",
    "tri_ten =np.split(tri, 10)\n",
    "tt = tri[::10]\n",
    "\n",
    "print(tri_ten)\n",
    "\n",
    "#Reverse the array using the slice notation\n",
    "res = tri[::-1]\n",
    "print(res)\n",
    "\n",
    "#Extract elements where the absolute difference between the `sin` and `cos` functions evaluated for that element is < 0.1\n",
    "mask = (abs(np.sin(tri) - np.cos(tri) < 0.1))\n",
    "tri[mask]\n",
    "\n",
    "#Optional**: make a plot showing the sin and cos functions and indicate where they are close\n",
    "sin = np.sin(tri)\n",
    "cos = np.cos(tri)\n",
    "plt.plot(tri, sin, tri, cos)\n",
    "plt.title(\"plot of the sin and cos\")\n"
   ]
  },
  {
   "cell_type": "markdown",
   "metadata": {},
   "source": [
    "5\\. **Matrices**\n",
    "\n",
    "Create a matrix that shows the $10 \\times 10$ multiplication table.\n",
    "\n",
    " * Find the trace of the matrix\n",
    " * Extract the anti-diagonal matrix (this should be ```array([10, 18, 24, 28, 30, 30, 28, 24, 18, 10])```)\n",
    " * Extract the diagonal offset by 1 upwards (this should be ```array([ 2,  6, 12, 20, 30, 42, 56, 72, 90])```)"
   ]
  },
  {
   "cell_type": "code",
   "execution_count": 9,
   "metadata": {
    "ExecuteTime": {
     "end_time": "2023-12-01T14:15:35.170963Z",
     "start_time": "2023-12-01T14:15:35.158052Z"
    }
   },
   "outputs": [
    {
     "name": "stdout",
     "output_type": "stream",
     "text": [
      "[ 1  2  3  4  5  6  7  8  9 10] [[ 1]\n",
      " [ 2]\n",
      " [ 3]\n",
      " [ 4]\n",
      " [ 5]\n",
      " [ 6]\n",
      " [ 7]\n",
      " [ 8]\n",
      " [ 9]\n",
      " [10]]\n",
      "the 10 by 10 multiplication table\n",
      "[[  1   2   3   4   5   6   7   8   9  10]\n",
      " [  2   4   6   8  10  12  14  16  18  20]\n",
      " [  3   6   9  12  15  18  21  24  27  30]\n",
      " [  4   8  12  16  20  24  28  32  36  40]\n",
      " [  5  10  15  20  25  30  35  40  45  50]\n",
      " [  6  12  18  24  30  36  42  48  54  60]\n",
      " [  7  14  21  28  35  42  49  56  63  70]\n",
      " [  8  16  24  32  40  48  56  64  72  80]\n",
      " [  9  18  27  36  45  54  63  72  81  90]\n",
      " [ 10  20  30  40  50  60  70  80  90 100]]\n",
      "the trace of the matrix\n",
      "385\n",
      "the anti-diagonal matrix\n",
      "[10 18 24 28 30 30 28 24 18 10]\n",
      " the diagonal offset by 1 upwards \n",
      "[ 2  6 12 20 30 42 56 72 90] \n"
     ]
    }
   ],
   "source": [
    "import numpy as np\n",
    "\n",
    "\n",
    "def mult_table(n):\n",
    "    temp = np.arange(1, n + 1)\n",
    "    print(temp, temp[:, None])\n",
    "    return temp * temp[:, None]\n",
    "\n",
    "\n",
    "mult_ten = mult_table(10)\n",
    "\n",
    "mat_trace = np.trace(mult_ten)\n",
    "\n",
    "anti_diag = np.fliplr(mult_ten).diagonal()\n",
    "\n",
    "up_diag = np.diagonal(mult_ten, offset=1)\n",
    "print(f\"the 10 by 10 multiplication table\\n{mult_ten}\\n\"\n",
    "      f\"the trace of the matrix\\n{mat_trace}\\n\"\n",
    "      f\"the anti-diagonal matrix\\n{anti_diag}\\n \"\n",
    "      f\"the diagonal offset by 1 upwards \\n{up_diag} \")"
   ]
  },
  {
   "cell_type": "markdown",
   "metadata": {},
   "source": [
    "6\\. **Broadcasting**\n",
    "\n",
    "Use broadcasting to create a grid of distances.\n",
    "\n",
    "Route 66 crosses the following cities in the US: Chicago, Springfield, Saint-Louis, Tulsa, Oklahoma City, Amarillo, Santa Fe, Albuquerque, Flagstaff, Los Angeles.\n",
    "\n",
    "The corresponding positions in miles are: `0, 198, 303, 736, 871, 1175, 1475, 1544, 1913, 2448`\n",
    "\n",
    "  * Build a 2D grid of distances among each city along Route 66\n",
    "  * Convert the distances in km"
   ]
  },
  {
   "cell_type": "code",
   "execution_count": 11,
   "metadata": {
    "ExecuteTime": {
     "end_time": "2023-12-01T14:16:02.683765Z",
     "start_time": "2023-12-01T14:16:02.668205Z"
    }
   },
   "outputs": [
    {
     "name": "stdout",
     "output_type": "stream",
     "text": [
      "[[   0]\n",
      " [ 198]\n",
      " [ 303]\n",
      " [ 736]\n",
      " [ 871]\n",
      " [1175]\n",
      " [1475]\n",
      " [1544]\n",
      " [1913]\n",
      " [2448]]\n",
      "\n",
      "Distance in km: \n",
      " [[   0.  319.  488. 1184. 1402. 1891. 2374. 2485. 3079. 3940.]\n",
      " [ 319.    0.  169.  866. 1083. 1572. 2055. 2166. 2760. 3621.]\n",
      " [ 488.  169.    0.  697.  914. 1403. 1886. 1997. 2591. 3452.]\n",
      " [1184.  866.  697.    0.  217.  707. 1189. 1300. 1894. 2755.]\n",
      " [1402. 1083.  914.  217.    0.  489.  972. 1083. 1677. 2538.]\n",
      " [1891. 1572. 1403.  707.  489.    0.  483.  594. 1188. 2049.]\n",
      " [2374. 2055. 1886. 1189.  972.  483.    0.  111.  705. 1566.]\n",
      " [2485. 2166. 1997. 1300. 1083.  594.  111.    0.  594. 1455.]\n",
      " [3079. 2760. 2591. 1894. 1677. 1188.  705.  594.    0.  861.]\n",
      " [3940. 3621. 3452. 2755. 2538. 2049. 1566. 1455.  861.    0.]]\n"
     ]
    }
   ],
   "source": [
    "import numpy as np\n",
    "miles = np.array([0, 198, 303, 736, 871, 1175, 1475, 1544, 1913, 2448])\n",
    "\n",
    "dist_miles = np.abs(miles - miles[:, np.newaxis])\n",
    "\n",
    "# print(\"Distance in miles: \\n\", dist_miles)\n",
    "print(miles[:, np.newaxis])\n",
    "\n",
    "dist_km = dist_miles * 1.60934\n",
    "print(\"\\nDistance in km: \\n\", dist_km.round())"
   ]
  },
  {
   "cell_type": "markdown",
   "metadata": {},
   "source": [
    "7\\. **Prime numbers sieve**\n",
    "\n",
    "Compute the prime numbers in the 0-N (start with N=99) range with a sieve (mask).\n",
    "\n",
    "  * Construct a shape (N,) boolean array, which is the mask\n",
    "  * Identify the multiples of each number starting from 2 and set accordingly the corresponding mask element\n",
    "  * Apply the mask to obtain an array of ordered prime numbers\n",
    "  * Check the performances (with `timeit`); how does it scale with N?\n",
    "  * Implement the optimization suggested in the [sieve of Eratosthenes](https://en.wikipedia.org/wiki/Sieve_of_Eratosthenes)"
   ]
  },
  {
   "cell_type": "code",
   "execution_count": 12,
   "metadata": {
    "ExecuteTime": {
     "end_time": "2023-12-01T14:16:20.950171Z",
     "start_time": "2023-12-01T14:16:20.903240Z"
    }
   },
   "outputs": [
    {
     "name": "stdout",
     "output_type": "stream",
     "text": [
      "original array: [1 4 1 3 4 8 0 5 1 6 6 6 0 6 0] \n",
      "\n",
      "the mask: [False False False  True False False  True False False  True  True  True\n",
      "  True  True  True] \n",
      "\n",
      "the filtered array: [3 0 6 6 6 0 6 0] \n",
      "\n",
      "are a and filtered_a the same object? False \n",
      "\n",
      "the modified array: [ 1  4  1 -1  4  8 -1  5  1 -1 -1 -1 -1 -1 -1] \n",
      "\n",
      "Prime numbers\n",
      " [ 2  3  5  7 11 13 17 19 23 29 31 37 41 43 47 53 59 61 67 71 73 79 83 89\n",
      " 97]\n",
      "2\n",
      "3\n",
      "5\n",
      "7\n",
      "11\n",
      "13\n",
      "17\n",
      "19\n",
      "23\n",
      "29\n",
      "31\n",
      "37\n",
      "41\n",
      "43\n",
      "47\n",
      "53\n",
      "59\n",
      "61\n",
      "67\n",
      "71\n",
      "73\n",
      "79\n",
      "83\n",
      "89\n",
      "97\n",
      "101\n",
      "103\n",
      "107\n",
      "109\n",
      "113\n",
      "127\n",
      "131\n",
      "137\n",
      "139\n",
      "149\n",
      "151\n",
      "157\n",
      "163\n",
      "167\n",
      "173\n",
      "179\n",
      "181\n",
      "191\n",
      "193\n",
      "197\n",
      "199\n",
      "211\n",
      "223\n",
      "227\n",
      "229\n",
      "233\n",
      "239\n",
      "241\n",
      "251\n",
      "257\n",
      "263\n",
      "269\n",
      "271\n",
      "277\n",
      "281\n",
      "283\n",
      "293\n",
      "307\n",
      "311\n",
      "313\n",
      "317\n",
      "331\n",
      "337\n",
      "347\n",
      "349\n",
      "353\n",
      "359\n",
      "367\n",
      "373\n",
      "379\n",
      "383\n",
      "389\n",
      "397\n",
      "401\n",
      "409\n",
      "419\n",
      "421\n",
      "431\n",
      "433\n",
      "439\n",
      "443\n",
      "449\n",
      "457\n",
      "461\n",
      "463\n",
      "467\n",
      "479\n",
      "487\n",
      "491\n",
      "499\n",
      "503\n",
      "509\n",
      "521\n",
      "523\n",
      "541\n",
      "547\n",
      "557\n",
      "563\n",
      "569\n",
      "571\n",
      "577\n",
      "587\n",
      "593\n",
      "599\n",
      "601\n",
      "607\n",
      "613\n",
      "617\n",
      "619\n",
      "631\n",
      "641\n",
      "643\n",
      "647\n",
      "653\n",
      "659\n",
      "661\n",
      "673\n",
      "677\n",
      "683\n",
      "691\n",
      "701\n",
      "709\n",
      "719\n",
      "727\n",
      "733\n",
      "739\n",
      "743\n",
      "751\n",
      "757\n",
      "761\n",
      "769\n",
      "773\n",
      "787\n",
      "797\n",
      "809\n",
      "811\n",
      "821\n",
      "823\n",
      "827\n",
      "829\n",
      "839\n",
      "853\n",
      "857\n",
      "859\n",
      "863\n",
      "877\n",
      "881\n",
      "883\n",
      "887\n",
      "907\n",
      "911\n",
      "919\n",
      "929\n",
      "937\n",
      "941\n",
      "947\n",
      "953\n",
      "967\n",
      "971\n",
      "977\n",
      "983\n",
      "991\n",
      "997\n",
      "The time difference is : 0.0007415400000354566\n"
     ]
    }
   ],
   "source": [
    "import timeit\n",
    "import numpy as np\n",
    "a = np.random.randint(0, 9, 15) # 15 random int between 0 and 21\n",
    "print(\"original array:\", a, '\\n')\n",
    "\n",
    "# create a mask to filter multiples of 3\n",
    "mask = (a % 3 == 0)\n",
    "print(\"the mask:\", mask, '\\n')\n",
    "\n",
    "filtered_a = a[mask]\n",
    "# equivalent to a[a % 3 == 0]\n",
    "print(\"the filtered array:\", filtered_a, '\\n')\n",
    "\n",
    "# verify that fancy indexing creates copies\n",
    "print(\"are a and filtered_a the same object?\", np.may_share_memory(a, filtered_a), '\\n')\n",
    "\n",
    "# Indexing with a mask can be very useful to assign a new value to a sub-array\n",
    "a[a % 3 == 0] = -1\n",
    "print(\"the modified array:\", a, '\\n')\n",
    "\n",
    "\n",
    "N = np.arange(2, 100)\n",
    "for i in range(98):\n",
    "    if(N[i] != False):\n",
    "        for j in range(i + 1, 98):\n",
    "            if(N[j] % N[i] == 0):\n",
    "                N[j] = False\n",
    "mask = (N != 0)\n",
    "filtered = N[mask]\n",
    "print(\"Prime numbers\\n\", filtered)\n",
    "\n",
    "def SieveOfEratosthenes(n):\n",
    "    prime = [True for i in range(n + 1)]\n",
    "    p = 2\n",
    "    while (p * p <= n):\n",
    "\n",
    "        if (prime[p] == True):\n",
    "\n",
    "            for i in range(p ** 2, n + 1, p):\n",
    "                prime[i] = False\n",
    "        p += 1\n",
    "\n",
    "    prime[0] = False\n",
    "    prime[1] = False\n",
    "\n",
    "    for p in range(n + 1):\n",
    "        if prime[p]:\n",
    "            print(p)\n",
    "\n",
    "starttime = timeit.default_timer()\n",
    "SieveOfEratosthenes(1000)\n",
    "print(\"The time difference is :\", timeit.default_timer() - starttime)"
   ]
  },
  {
   "cell_type": "markdown",
   "metadata": {},
   "source": [
    "8\\. **Diffusion using random walk**\n",
    "\n",
    "Consider a simple random walk process: at each step in time, a walker jumps right or left (+1 or -1) with equal probability. The goal is to find the typical distance from the origin of many random walkers after a given amount of time.\n",
    "\n",
    "*Hint*: create a 2D array where each row represents a walker, and each column represents a time step.\n",
    "\n",
    "  * Take 1000 walkers and let them walk for 200 steps\n",
    "  * Use `randint` to create a 2D array of size $walkers \\times steps$ with values -1 or 1\n",
    "  * Calculate the walking distances for each walker (e.g. by summing the elements in each row)\n",
    "  * Take the square of the previously-obtained array (element-wise)\n",
    "  * Compute the mean of the squared distances at each step (i.e. the mean along the columns)\n",
    "  * **Optional**: plot the average distances ($\\sqrt(distance^2)$) as a function of time (step)"
   ]
  },
  {
   "cell_type": "code",
   "execution_count": 13,
   "metadata": {
    "ExecuteTime": {
     "end_time": "2023-12-01T14:16:47.044510Z",
     "start_time": "2023-12-01T14:16:47.029549Z"
    }
   },
   "outputs": [
    {
     "name": "stdout",
     "output_type": "stream",
     "text": [
      "[[ 1  1]\n",
      " [ 1  1]\n",
      " [ 1 -1]\n",
      " [ 1 -1]\n",
      " [-1 -1]\n",
      " [-1 -1]\n",
      " [ 1  1]\n",
      " [ 1 -1]\n",
      " [ 1  1]\n",
      " [-1 -1]]\n"
     ]
    }
   ],
   "source": [
    "import numpy as np\n",
    "\n",
    "walkers = np.random.randint(0, 2, size=(10, 2))\n",
    "walkers = walkers * 2 - 1\n",
    "# dataset = np.asarray(walkers)\n",
    "# dataset = dataset * 2 -1\n",
    "print(walkers)\n",
    "# row_sum = np.sum(walkers, axis=0)\n",
    "# squ_ary = np.square(row_sum)\n",
    "# column_mean = np.mean(walkers, axis=0)\n",
    "# print(f\"2D array of size walkers * steps\\n{walkers}\\n\"\n",
    "#       f\"the walking distances for each walker by summing the elements in each row\\n{row_sum}\\n\"\n",
    "#       f\"the square of the previously-obtained array\\n{squ_ary}\\n\"\n",
    "#       f\"the mean of the squared distances at each step\\n{column_mean}\\n\"\n",
    "#       )\n"
   ]
  }
 ],
 "metadata": {
  "kernelspec": {
   "display_name": "Python 3 (ipykernel)",
   "language": "python",
   "name": "python3"
  },
  "language_info": {
   "codemirror_mode": {
    "name": "ipython",
    "version": 3
   },
   "file_extension": ".py",
   "mimetype": "text/x-python",
   "name": "python",
   "nbconvert_exporter": "python",
   "pygments_lexer": "ipython3",
   "version": "3.10.12"
  }
 },
 "nbformat": 4,
 "nbformat_minor": 2
}
